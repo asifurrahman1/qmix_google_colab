{
  "nbformat": 4,
  "nbformat_minor": 0,
  "metadata": {
    "colab": {
      "name": "qmix.ipynb",
      "provenance": [],
      "collapsed_sections": [],
      "toc_visible": true
    },
    "kernelspec": {
      "name": "python3",
      "display_name": "Python 3"
    }
  },
  "cells": [
    {
      "cell_type": "markdown",
      "metadata": {
        "id": "wstkO3zP1Irn"
      },
      "source": [
        "**You need to do the following steps everytime you want to run the qmix code if the google colab runtime has cleared its cache.**\n",
        "**Nothing inside the /root/ and the /content/ folder persists but you can move files into your google drive if you want my mounting your google drive**"
      ]
    },
    {
      "cell_type": "markdown",
      "metadata": {
        "id": "M-5kSP6Iw0tS"
      },
      "source": [
        "**Install pysc2**\n"
      ]
    },
    {
      "cell_type": "code",
      "metadata": {
        "id": "km6jUunqwARr"
      },
      "source": [
        "!pip install -q pysc2 pyvirtualdisplay\n",
        "!apt-get install -y xvfb python-opengl mesa-utils libosmesa6-dev xorg x11-xserver-utils"
      ],
      "execution_count": null,
      "outputs": []
    },
    {
      "cell_type": "markdown",
      "metadata": {
        "id": "xFSg-0XIxGme"
      },
      "source": [
        "# After pysc2 installation  \n",
        "**Add the following lines to __init__.py file**\n",
        "#/usr/local/lib/python3.6/dist-packages/pysc2/run_configs/\n",
        "IF the file is not inside python3.6 then check inside \n",
        "#/usr/local/lib/python3.7/dist-packages/pysc2/run_configs/\n",
        "\n",
        "**Include the following lines just after \"import flags\"**\n",
        "\n",
        "import sys\n",
        "\n",
        "FLAGS = flags.FLAGS\n",
        "\n",
        "FLAGS(sys.argv)"
      ]
    },
    {
      "cell_type": "markdown",
      "metadata": {
        "id": "lYYsfVXZzDuo"
      },
      "source": [
        "**Download the qmix code and Maps from my repository**"
      ]
    },
    {
      "cell_type": "code",
      "metadata": {
        "id": "7Z1_BTEEzFuP",
        "colab": {
          "base_uri": "https://localhost:8080/"
        },
        "outputId": "f4664c18-ed8e-4887-d281-9fb2e0a45b15"
      },
      "source": [
        "!git clone https://github.com/asifurrahman1/qmix_google_colab.git"
      ],
      "execution_count": null,
      "outputs": [
        {
          "output_type": "stream",
          "text": [
            "Cloning into 'qmix_google_colab'...\n",
            "remote: Enumerating objects: 110, done.\u001b[K\n",
            "remote: Total 110 (delta 0), reused 0 (delta 0), pack-reused 110\u001b[K\n",
            "Receiving objects: 100% (110/110), 446.08 KiB | 1.38 MiB/s, done.\n",
            "Resolving deltas: 100% (40/40), done.\n"
          ],
          "name": "stdout"
        }
      ]
    },
    {
      "cell_type": "markdown",
      "metadata": {
        "id": "Yo4gC-PhzpxI"
      },
      "source": [
        "**Move the downloaded qmix folder to root**"
      ]
    },
    {
      "cell_type": "code",
      "metadata": {
        "id": "ng0JakF8zuqv"
      },
      "source": [
        "%cp -av /content/qmix_google_colab/qmix /root/\n",
        "%rm -rf /content/qmix_google_colab/qmix"
      ],
      "execution_count": null,
      "outputs": []
    },
    {
      "cell_type": "markdown",
      "metadata": {
        "id": "r4GbRJETxtvX"
      },
      "source": [
        "**Next Install the sc2clientprotocol api**"
      ]
    },
    {
      "cell_type": "code",
      "metadata": {
        "id": "IWtjJUNFw3Z9"
      },
      "source": [
        "!pip install -q s2clientprotocol"
      ],
      "execution_count": null,
      "outputs": []
    },
    {
      "cell_type": "markdown",
      "metadata": {
        "id": "5oRYHT4vyJ7q"
      },
      "source": [
        "**Download and unzip the starcraft2 game inside root folder**"
      ]
    },
    {
      "cell_type": "code",
      "metadata": {
        "id": "Gn8em2iZxr8d"
      },
      "source": [
        "!wget https://blzdistsc2-a.akamaihd.net/Linux/SC2.4.0.2.zip\n",
        "!unzip -P iagreetotheeula -oq SC2.4.0.2.zip -d ~"
      ],
      "execution_count": null,
      "outputs": []
    },
    {
      "cell_type": "markdown",
      "metadata": {
        "id": "0zyubs6FyR6a"
      },
      "source": [
        "**Move the \"Maps\" folder downloaded from github repository inside Starcraft2 environment in the root folder**"
      ]
    },
    {
      "cell_type": "code",
      "metadata": {
        "id": "FxkYNrCkyuPF"
      },
      "source": [
        "%cp -av /content/qmix_google_colab/Maps /root/StarCraftII/\n",
        "%rm -rf /content/qmix_google_colab/Maps"
      ],
      "execution_count": null,
      "outputs": []
    },
    {
      "cell_type": "markdown",
      "metadata": {
        "id": "eQOYXSgGVHzX"
      },
      "source": [
        "Mount Your google drive so the execution data will be saved inside your google : gdrive/colab notebook/saved data\n",
        "\n",
        "**you need to provide the auth code by clicking the link that appears when executing the mount command**"
      ]
    },
    {
      "cell_type": "code",
      "metadata": {
        "id": "NurrBeYPVafx"
      },
      "source": [
        "from google.colab import drive\n",
        "drive.mount('/gdrive')"
      ],
      "execution_count": null,
      "outputs": []
    },
    {
      "cell_type": "markdown",
      "metadata": {
        "id": "nLSO7pJm0MSN"
      },
      "source": [
        "**Remove the libtcmalloc to run the game in google colab environment**"
      ]
    },
    {
      "cell_type": "code",
      "metadata": {
        "id": "u7kAZMeB0WGv"
      },
      "source": [
        "# Important - remove libtcmalloc\n",
        "!apt-get remove libtcmalloc*"
      ],
      "execution_count": null,
      "outputs": []
    },
    {
      "cell_type": "markdown",
      "metadata": {
        "id": "Og4jv7OR0kE2"
      },
      "source": [
        "**Change your current directory which is usually by default /content/ to /root/qmix**"
      ]
    },
    {
      "cell_type": "code",
      "metadata": {
        "id": "-t8FCc_E0uMP"
      },
      "source": [
        "%cd ..\n",
        "%cd /root/qmix/"
      ],
      "execution_count": null,
      "outputs": []
    },
    {
      "cell_type": "markdown",
      "metadata": {
        "id": "Kl2fRZF30zve"
      },
      "source": [
        "**Run qmix by executing the main**"
      ]
    },
    {
      "cell_type": "code",
      "metadata": {
        "id": "ZoG3UsW71CUo"
      },
      "source": [
        "!python3 main.py"
      ],
      "execution_count": null,
      "outputs": []
    },
    {
      "cell_type": "markdown",
      "metadata": {
        "id": "oxSxahKbV0DA"
      },
      "source": [
        " "
      ]
    }
  ]
}
